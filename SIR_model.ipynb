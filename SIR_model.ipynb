{
 "cells": [
  {
   "cell_type": "code",
   "execution_count": 1,
   "id": "1ec4f842-e875-4cf8-b394-0e0724ac9ff1",
   "metadata": {},
   "outputs": [],
   "source": [
    "import numpy as np\n",
    "import scipy as sp\n",
    "import pandas as pd"
   ]
  },
  {
   "cell_type": "code",
   "execution_count": 4,
   "id": "efe1dcb8-69cc-4c5f-b1be-784147848838",
   "metadata": {},
   "outputs": [
    {
     "data": {
      "text/plain": [
       "('rate of infection', 'rate of recovery')"
      ]
     },
     "execution_count": 4,
     "metadata": {},
     "output_type": "execute_result"
    }
   ],
   "source": [
    "beta = \"rate of infection\"\n",
    "gamma = \"rate of recovery\"\n",
    "S = \"fraction susceptible\"\n",
    "I = \"fraction infected\"\n",
    "R = \"fraction recovered\" "
   ]
  },
  {
   "cell_type": "code",
   "execution_count": 5,
   "id": "23e59c00-9f5d-4673-a424-cc33feaacef8",
   "metadata": {},
   "outputs": [],
   "source": [
    "def rate_of_suseptible(I, beta, t):\n",
    "    return np.exp(-I*beta*t)\n",
    "\n",
    "def rate_of_infected(S, I, beta, gamma, t):\n",
    "    return (I * beta * S * t) - (I * gamma * t)\n",
    "\n",
    "def rate_of_recovering(I, gamma, t):\n",
    "    return I * gamma * t"
   ]
  },
  {
   "cell_type": "code",
   "execution_count": null,
   "id": "be4cd3d2-d723-4086-9686-5c552a76d2c2",
   "metadata": {},
   "outputs": [],
   "source": []
  }
 ],
 "metadata": {
  "kernelspec": {
   "display_name": "Python 3 (ipykernel)",
   "language": "python",
   "name": "python3"
  },
  "language_info": {
   "codemirror_mode": {
    "name": "ipython",
    "version": 3
   },
   "file_extension": ".py",
   "mimetype": "text/x-python",
   "name": "python",
   "nbconvert_exporter": "python",
   "pygments_lexer": "ipython3",
   "version": "3.12.4"
  }
 },
 "nbformat": 4,
 "nbformat_minor": 5
}
